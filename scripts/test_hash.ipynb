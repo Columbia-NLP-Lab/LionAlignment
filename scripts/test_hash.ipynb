{
 "cells": [
  {
   "cell_type": "code",
   "execution_count": 6,
   "metadata": {},
   "outputs": [],
   "source": [
    "import hashlib\n",
    "import pickle"
   ]
  },
  {
   "cell_type": "code",
   "execution_count": 2,
   "metadata": {},
   "outputs": [],
   "source": [
    "def hash_object(obj):\n",
    "    # Convert the object to a bytes-like object (e.g., a string in this case)\n",
    "    if isinstance(obj, str):\n",
    "        obj_bytes = obj.encode('utf-8')\n",
    "    else:\n",
    "        raise TypeError(\"Unsupported object type\")\n",
    "    \n",
    "    # Create a SHA-256 hash object\n",
    "    hash_obj = hashlib.sha256()\n",
    "    \n",
    "    # Update the hash object with the bytes-like object\n",
    "    hash_obj.update(obj_bytes)\n",
    "    \n",
    "    # Get the hexadecimal digest of the hash\n",
    "    hex_digest = hash_obj.hexdigest()\n",
    "    \n",
    "    return hex_digest"
   ]
  },
  {
   "cell_type": "code",
   "execution_count": 5,
   "metadata": {},
   "outputs": [],
   "source": [
    "params = {\n",
    "\n",
    "    \"dataset_mixer\" {\n",
    "        \"test\": 1.0,\n",
    "        \"train\": 1.0,\n",
    "        \"val\": 1.0,\n",
    "    }"
   ]
  },
  {
   "cell_type": "code",
   "execution_count": null,
   "metadata": {},
   "outputs": [],
   "source": [
    "params = {"
   ]
  },
  {
   "cell_type": "code",
   "execution_count": 7,
   "metadata": {},
   "outputs": [],
   "source": [
    "dict_bytes = pickle.dumps(dataset_mixer, protocol=pickle.HIGHEST_PROTOCOL)"
   ]
  },
  {
   "cell_type": "code",
   "execution_count": 8,
   "metadata": {},
   "outputs": [
    {
     "data": {
      "text/plain": [
       "b'\\x80\\x05\\x955\\x00\\x00\\x00\\x00\\x00\\x00\\x00}\\x94(\\x8c\\x04test\\x94G?\\xf0\\x00\\x00\\x00\\x00\\x00\\x00\\x8c\\x05train\\x94G?\\xf0\\x00\\x00\\x00\\x00\\x00\\x00\\x8c\\x03val\\x94G?\\xf0\\x00\\x00\\x00\\x00\\x00\\x00u.'"
      ]
     },
     "execution_count": 8,
     "metadata": {},
     "output_type": "execute_result"
    }
   ],
   "source": [
    "dict_bytes"
   ]
  },
  {
   "cell_type": "code",
   "execution_count": 4,
   "metadata": {},
   "outputs": [
    {
     "ename": "TypeError",
     "evalue": "Unsupported object type",
     "output_type": "error",
     "traceback": [
      "\u001b[0;31m---------------------------------------------------------------------------\u001b[0m",
      "\u001b[0;31mTypeError\u001b[0m                                 Traceback (most recent call last)",
      "Cell \u001b[0;32mIn[4], line 1\u001b[0m\n\u001b[0;32m----> 1\u001b[0m \u001b[43mhash_object\u001b[49m\u001b[43m(\u001b[49m\u001b[43mdataset_mixer\u001b[49m\u001b[43m)\u001b[49m\n",
      "Cell \u001b[0;32mIn[2], line 6\u001b[0m, in \u001b[0;36mhash_object\u001b[0;34m(obj)\u001b[0m\n\u001b[1;32m      4\u001b[0m     obj_bytes \u001b[38;5;241m=\u001b[39m obj\u001b[38;5;241m.\u001b[39mencode(\u001b[38;5;124m'\u001b[39m\u001b[38;5;124mutf-8\u001b[39m\u001b[38;5;124m'\u001b[39m)\n\u001b[1;32m      5\u001b[0m \u001b[38;5;28;01melse\u001b[39;00m:\n\u001b[0;32m----> 6\u001b[0m     \u001b[38;5;28;01mraise\u001b[39;00m \u001b[38;5;167;01mTypeError\u001b[39;00m(\u001b[38;5;124m\"\u001b[39m\u001b[38;5;124mUnsupported object type\u001b[39m\u001b[38;5;124m\"\u001b[39m)\n\u001b[1;32m      8\u001b[0m \u001b[38;5;66;03m# Create a SHA-256 hash object\u001b[39;00m\n\u001b[1;32m      9\u001b[0m hash_obj \u001b[38;5;241m=\u001b[39m hashlib\u001b[38;5;241m.\u001b[39msha256()\n",
      "\u001b[0;31mTypeError\u001b[0m: Unsupported object type"
     ]
    }
   ],
   "source": [
    "hash_object(dataset_mixer)"
   ]
  },
  {
   "cell_type": "code",
   "execution_count": null,
   "metadata": {},
   "outputs": [],
   "source": []
  }
 ],
 "metadata": {
  "kernelspec": {
   "display_name": "base",
   "language": "python",
   "name": "python3"
  },
  "language_info": {
   "codemirror_mode": {
    "name": "ipython",
    "version": 3
   },
   "file_extension": ".py",
   "mimetype": "text/x-python",
   "name": "python",
   "nbconvert_exporter": "python",
   "pygments_lexer": "ipython3",
   "version": "3.11.9"
  }
 },
 "nbformat": 4,
 "nbformat_minor": 2
}
